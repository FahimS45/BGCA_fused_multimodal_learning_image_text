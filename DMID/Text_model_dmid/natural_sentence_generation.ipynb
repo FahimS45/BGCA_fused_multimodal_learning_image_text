{
 "cells": [
  {
   "cell_type": "markdown",
   "metadata": {},
   "source": [
    "# **Context-Rich Natural Sentence Generation from Metadata and `.txt` Files for the DMID Dataset**\n"
   ]
  },
  {
   "cell_type": "markdown",
   "metadata": {},
   "source": [
    "## Import necessary libraries"
   ]
  },
  {
   "cell_type": "code",
   "execution_count": 37,
   "metadata": {},
   "outputs": [],
   "source": [
    "import os\n",
    "import re\n",
    "import numpy as np\n",
    "import pandas as pd"
   ]
  },
  {
   "cell_type": "markdown",
   "metadata": {},
   "source": [
    "## Load Metadata and preprocess"
   ]
  },
  {
   "cell_type": "code",
   "execution_count": 38,
   "metadata": {},
   "outputs": [
    {
     "data": {
      "text/html": [
       "<div>\n",
       "<style scoped>\n",
       "    .dataframe tbody tr th:only-of-type {\n",
       "        vertical-align: middle;\n",
       "    }\n",
       "\n",
       "    .dataframe tbody tr th {\n",
       "        vertical-align: top;\n",
       "    }\n",
       "\n",
       "    .dataframe thead th {\n",
       "        text-align: right;\n",
       "    }\n",
       "</style>\n",
       "<table border=\"1\" class=\"dataframe\">\n",
       "  <thead>\n",
       "    <tr style=\"text-align: right;\">\n",
       "      <th></th>\n",
       "      <th>Ref num</th>\n",
       "      <th>View</th>\n",
       "      <th>Tissue</th>\n",
       "      <th>Abnormality type</th>\n",
       "      <th>Class</th>\n",
       "      <th>X</th>\n",
       "      <th>Y</th>\n",
       "      <th>Radius</th>\n",
       "    </tr>\n",
       "  </thead>\n",
       "  <tbody>\n",
       "    <tr>\n",
       "      <th>0</th>\n",
       "      <td>IMG001</td>\n",
       "      <td>MLOLT</td>\n",
       "      <td>G</td>\n",
       "      <td>MISC+CALC</td>\n",
       "      <td>M</td>\n",
       "      <td>1567.0</td>\n",
       "      <td>3644.0</td>\n",
       "      <td>295</td>\n",
       "    </tr>\n",
       "    <tr>\n",
       "      <th>1</th>\n",
       "      <td>IMG001</td>\n",
       "      <td>MLOLT</td>\n",
       "      <td>G</td>\n",
       "      <td>CIRC</td>\n",
       "      <td>B</td>\n",
       "      <td>1461.0</td>\n",
       "      <td>3102.0</td>\n",
       "      <td>85</td>\n",
       "    </tr>\n",
       "    <tr>\n",
       "      <th>2</th>\n",
       "      <td>IMG002</td>\n",
       "      <td>MLORT</td>\n",
       "      <td>G</td>\n",
       "      <td>NORM</td>\n",
       "      <td>NaN</td>\n",
       "      <td>NaN</td>\n",
       "      <td>NaN</td>\n",
       "      <td>NaN</td>\n",
       "    </tr>\n",
       "    <tr>\n",
       "      <th>3</th>\n",
       "      <td>IMG003</td>\n",
       "      <td>CCLT</td>\n",
       "      <td>F</td>\n",
       "      <td>NORM</td>\n",
       "      <td>NaN</td>\n",
       "      <td>NaN</td>\n",
       "      <td>NaN</td>\n",
       "      <td>NaN</td>\n",
       "    </tr>\n",
       "    <tr>\n",
       "      <th>4</th>\n",
       "      <td>IMG004</td>\n",
       "      <td>CCRT</td>\n",
       "      <td>F</td>\n",
       "      <td>NORM</td>\n",
       "      <td>NaN</td>\n",
       "      <td>NaN</td>\n",
       "      <td>NaN</td>\n",
       "      <td>NaN</td>\n",
       "    </tr>\n",
       "  </tbody>\n",
       "</table>\n",
       "</div>"
      ],
      "text/plain": [
       "   Ref num    View Tissue Abnormality type Class       X       Y Radius\n",
       "0  IMG001   MLOLT       G        MISC+CALC     M  1567.0  3644.0    295\n",
       "1  IMG001   MLOLT       G             CIRC     B  1461.0  3102.0     85\n",
       "2  IMG002   MLORT       G             NORM   NaN     NaN     NaN    NaN\n",
       "3  IMG003    CCLT       F             NORM   NaN     NaN     NaN    NaN\n",
       "4  IMG004    CCRT       F             NORM   NaN     NaN     NaN    NaN"
      ]
     },
     "execution_count": 38,
     "metadata": {},
     "output_type": "execute_result"
    }
   ],
   "source": [
    "df = pd.read_csv('mammography-data.csv')\n",
    "df.head()"
   ]
  },
  {
   "cell_type": "code",
   "execution_count": 39,
   "metadata": {},
   "outputs": [
    {
     "data": {
      "text/html": [
       "<div>\n",
       "<style scoped>\n",
       "    .dataframe tbody tr th:only-of-type {\n",
       "        vertical-align: middle;\n",
       "    }\n",
       "\n",
       "    .dataframe tbody tr th {\n",
       "        vertical-align: top;\n",
       "    }\n",
       "\n",
       "    .dataframe thead th {\n",
       "        text-align: right;\n",
       "    }\n",
       "</style>\n",
       "<table border=\"1\" class=\"dataframe\">\n",
       "  <thead>\n",
       "    <tr style=\"text-align: right;\">\n",
       "      <th></th>\n",
       "      <th>Ref num</th>\n",
       "      <th>Abnormality type</th>\n",
       "      <th>Class</th>\n",
       "    </tr>\n",
       "  </thead>\n",
       "  <tbody>\n",
       "    <tr>\n",
       "      <th>0</th>\n",
       "      <td>IMG001</td>\n",
       "      <td>MISC+CALC</td>\n",
       "      <td>M</td>\n",
       "    </tr>\n",
       "    <tr>\n",
       "      <th>1</th>\n",
       "      <td>IMG001</td>\n",
       "      <td>CIRC</td>\n",
       "      <td>B</td>\n",
       "    </tr>\n",
       "    <tr>\n",
       "      <th>2</th>\n",
       "      <td>IMG002</td>\n",
       "      <td>NORM</td>\n",
       "      <td>NaN</td>\n",
       "    </tr>\n",
       "    <tr>\n",
       "      <th>3</th>\n",
       "      <td>IMG003</td>\n",
       "      <td>NORM</td>\n",
       "      <td>NaN</td>\n",
       "    </tr>\n",
       "    <tr>\n",
       "      <th>4</th>\n",
       "      <td>IMG004</td>\n",
       "      <td>NORM</td>\n",
       "      <td>NaN</td>\n",
       "    </tr>\n",
       "  </tbody>\n",
       "</table>\n",
       "</div>"
      ],
      "text/plain": [
       "  Ref num Abnormality type Class\n",
       "0  IMG001        MISC+CALC     M\n",
       "1  IMG001             CIRC     B\n",
       "2  IMG002             NORM   NaN\n",
       "3  IMG003             NORM   NaN\n",
       "4  IMG004             NORM   NaN"
      ]
     },
     "execution_count": 39,
     "metadata": {},
     "output_type": "execute_result"
    }
   ],
   "source": [
    "df = df.map(lambda x: x.strip() if isinstance(x, str) else x)\n",
    "df = df.drop(['X', 'Y', 'Radius', 'View', 'Tissue'], axis=1)\n",
    "df.head()"
   ]
  },
  {
   "cell_type": "code",
   "execution_count": 40,
   "metadata": {},
   "outputs": [
    {
     "data": {
      "text/plain": [
       "Ref num               0\n",
       "Abnormality type      0\n",
       "Class               200\n",
       "dtype: int64"
      ]
     },
     "execution_count": 40,
     "metadata": {},
     "output_type": "execute_result"
    }
   ],
   "source": [
    "df.isnull().sum()"
   ]
  },
  {
   "cell_type": "code",
   "execution_count": 41,
   "metadata": {},
   "outputs": [
    {
     "data": {
      "text/html": [
       "<div>\n",
       "<style scoped>\n",
       "    .dataframe tbody tr th:only-of-type {\n",
       "        vertical-align: middle;\n",
       "    }\n",
       "\n",
       "    .dataframe tbody tr th {\n",
       "        vertical-align: top;\n",
       "    }\n",
       "\n",
       "    .dataframe thead th {\n",
       "        text-align: right;\n",
       "    }\n",
       "</style>\n",
       "<table border=\"1\" class=\"dataframe\">\n",
       "  <thead>\n",
       "    <tr style=\"text-align: right;\">\n",
       "      <th></th>\n",
       "      <th>Ref num</th>\n",
       "      <th>Abnormality type</th>\n",
       "      <th>Class</th>\n",
       "    </tr>\n",
       "  </thead>\n",
       "  <tbody>\n",
       "    <tr>\n",
       "      <th>0</th>\n",
       "      <td>IMG001</td>\n",
       "      <td>MISC+CALC</td>\n",
       "      <td>M</td>\n",
       "    </tr>\n",
       "    <tr>\n",
       "      <th>1</th>\n",
       "      <td>IMG001</td>\n",
       "      <td>CIRC</td>\n",
       "      <td>B</td>\n",
       "    </tr>\n",
       "    <tr>\n",
       "      <th>2</th>\n",
       "      <td>IMG002</td>\n",
       "      <td>NORM</td>\n",
       "      <td>B</td>\n",
       "    </tr>\n",
       "    <tr>\n",
       "      <th>3</th>\n",
       "      <td>IMG003</td>\n",
       "      <td>NORM</td>\n",
       "      <td>B</td>\n",
       "    </tr>\n",
       "    <tr>\n",
       "      <th>4</th>\n",
       "      <td>IMG004</td>\n",
       "      <td>NORM</td>\n",
       "      <td>B</td>\n",
       "    </tr>\n",
       "  </tbody>\n",
       "</table>\n",
       "</div>"
      ],
      "text/plain": [
       "  Ref num Abnormality type Class\n",
       "0  IMG001        MISC+CALC     M\n",
       "1  IMG001             CIRC     B\n",
       "2  IMG002             NORM     B\n",
       "3  IMG003             NORM     B\n",
       "4  IMG004             NORM     B"
      ]
     },
     "execution_count": 41,
     "metadata": {},
     "output_type": "execute_result"
    }
   ],
   "source": [
    "df.fillna(\"B\", inplace=True)\n",
    "df.head()"
   ]
  },
  {
   "cell_type": "code",
   "execution_count": 42,
   "metadata": {},
   "outputs": [
    {
     "data": {
      "text/plain": [
       "Abnormality type\n",
       "NORM         200\n",
       "CIRC         178\n",
       "CALC          80\n",
       "MISC          76\n",
       "SPIC          43\n",
       "CIRC+CALC     19\n",
       "MISC+CALC     13\n",
       "SPIC+CALC      8\n",
       "ARCH+CALC      7\n",
       "ASYM           6\n",
       "SPIC+ARCH      5\n",
       "ARCH           4\n",
       "CALC+MISC      3\n",
       "CIRC+SPIC      2\n",
       "ARCH+CLAC      1\n",
       "CALC+CIRC      1\n",
       "MISC+SPIC      1\n",
       "Name: count, dtype: int64"
      ]
     },
     "execution_count": 42,
     "metadata": {},
     "output_type": "execute_result"
    }
   ],
   "source": [
    "df.columns = df.columns.str.strip()\n",
    "df = df.replace(r'\\s+', '', regex=True)\n",
    "df['Abnormality type'].value_counts()"
   ]
  },
  {
   "cell_type": "code",
   "execution_count": 43,
   "metadata": {},
   "outputs": [],
   "source": [
    "# Sort to prioritize \"M\" over \"B\" in duplicates\n",
    "df.sort_values(by=[\"Ref num\", \"Class\"], ascending=[True, False], inplace=True)\n",
    "\n",
    "# Group by \"Ref num\" and merge \"Abnormality type\" values\n",
    "df = df.groupby(\"Ref num\").agg({\n",
    "    \"Abnormality type\": lambda x: \"+\".join(sorted(set(\"+\".join(x).split(\"+\")))),  # Remove duplicates, keep unique\n",
    "    \"Class\": \"first\"  # Take the first (sorted) category\n",
    "}).reset_index()"
   ]
  },
  {
   "cell_type": "markdown",
   "metadata": {},
   "source": [
    "## Breast composition extraction from `.txt` file"
   ]
  },
  {
   "cell_type": "code",
   "execution_count": 44,
   "metadata": {},
   "outputs": [],
   "source": [
    "def extract_breast_composition(txt_dir, output_csv):\n",
    "\n",
    "    data = []\n",
    "    \n",
    "    # Regex to match variations like 'breast' or 'brest'\n",
    "    pattern = re.compile(\n",
    "        r'\\b(breast|brest)\\s*composition[s]?:\\s*(.*)',\n",
    "        re.IGNORECASE\n",
    "    )\n",
    "\n",
    "    for filename in os.listdir(txt_dir):\n",
    "        if filename.lower().endswith(\".txt\"):\n",
    "            file_path = os.path.join(txt_dir, filename)\n",
    "            \n",
    "            with open(file_path, 'r', encoding='utf-8') as file:\n",
    "                lines = file.readlines()\n",
    "                \n",
    "                required_text = None\n",
    "                for i, line in enumerate(lines):\n",
    "                    match = pattern.match(line.strip())\n",
    "                    if match:\n",
    "                        # Case 1: Same line after colon\n",
    "                        if match.group(2):\n",
    "                            required_text = match.group(2).strip()\n",
    "                        # Case 2: On next line\n",
    "                        elif i + 1 < len(lines):\n",
    "                            required_text = lines[i + 1].strip()\n",
    "                        break\n",
    "\n",
    "                data.append({\n",
    "                    \"FILE\": filename[:-4].upper(),\n",
    "                    \"Breast Composition\": required_text or \"Not Found\"\n",
    "                })\n",
    "\n",
    "    # Convert to DataFrame\n",
    "    df_text = pd.DataFrame(data)\n",
    "\n",
    "    # Strip spaces from string cells\n",
    "    df_text = df_text.map(lambda x: x.strip() if isinstance(x, str) else x)\n",
    "\n",
    "    # Save to CSV\n",
    "    df_text.to_csv(output_csv, index=False)\n",
    "\n",
    "    return df_text"
   ]
  },
  {
   "cell_type": "code",
   "execution_count": null,
   "metadata": {},
   "outputs": [
    {
     "data": {
      "text/html": [
       "<div>\n",
       "<style scoped>\n",
       "    .dataframe tbody tr th:only-of-type {\n",
       "        vertical-align: middle;\n",
       "    }\n",
       "\n",
       "    .dataframe tbody tr th {\n",
       "        vertical-align: top;\n",
       "    }\n",
       "\n",
       "    .dataframe thead th {\n",
       "        text-align: right;\n",
       "    }\n",
       "</style>\n",
       "<table border=\"1\" class=\"dataframe\">\n",
       "  <thead>\n",
       "    <tr style=\"text-align: right;\">\n",
       "      <th></th>\n",
       "      <th>FILE</th>\n",
       "      <th>Breast Composition</th>\n",
       "    </tr>\n",
       "  </thead>\n",
       "  <tbody>\n",
       "    <tr>\n",
       "      <th>0</th>\n",
       "      <td>IMG001</td>\n",
       "      <td>predominantly fibro fatty breast parenchyma (A...</td>\n",
       "    </tr>\n",
       "    <tr>\n",
       "      <th>1</th>\n",
       "      <td>IMG002</td>\n",
       "      <td>Fibro fatty with scattered glandular breast pa...</td>\n",
       "    </tr>\n",
       "    <tr>\n",
       "      <th>2</th>\n",
       "      <td>IMG003</td>\n",
       "      <td>Predominantly fibro fatty breast parenchyma (A...</td>\n",
       "    </tr>\n",
       "    <tr>\n",
       "      <th>3</th>\n",
       "      <td>IMG004</td>\n",
       "      <td>Predominantly fibro fatty breast parenchyma (A...</td>\n",
       "    </tr>\n",
       "    <tr>\n",
       "      <th>4</th>\n",
       "      <td>IMG005</td>\n",
       "      <td>Predominantly fibro fatty breast parenchyma (A...</td>\n",
       "    </tr>\n",
       "  </tbody>\n",
       "</table>\n",
       "</div>"
      ],
      "text/plain": [
       "     FILE                                 Breast Composition\n",
       "0  IMG001  predominantly fibro fatty breast parenchyma (A...\n",
       "1  IMG002  Fibro fatty with scattered glandular breast pa...\n",
       "2  IMG003  Predominantly fibro fatty breast parenchyma (A...\n",
       "3  IMG004  Predominantly fibro fatty breast parenchyma (A...\n",
       "4  IMG005  Predominantly fibro fatty breast parenchyma (A..."
      ]
     },
     "execution_count": 46,
     "metadata": {},
     "output_type": "execute_result"
    }
   ],
   "source": [
    "df_ebc = extract_breast_composition(\n",
    "    txt_dir=r\"E:\\Mammography\\DMID\\Reports\",\n",
    "    output_csv=\"extracted_breast_composition_git.csv\"\n",
    ")\n",
    "df_ebc.head()"
   ]
  },
  {
   "cell_type": "markdown",
   "metadata": {},
   "source": [
    "## Mapping"
   ]
  },
  {
   "cell_type": "code",
   "execution_count": 47,
   "metadata": {},
   "outputs": [
    {
     "data": {
      "text/html": [
       "<div>\n",
       "<style scoped>\n",
       "    .dataframe tbody tr th:only-of-type {\n",
       "        vertical-align: middle;\n",
       "    }\n",
       "\n",
       "    .dataframe tbody tr th {\n",
       "        vertical-align: top;\n",
       "    }\n",
       "\n",
       "    .dataframe thead th {\n",
       "        text-align: right;\n",
       "    }\n",
       "</style>\n",
       "<table border=\"1\" class=\"dataframe\">\n",
       "  <thead>\n",
       "    <tr style=\"text-align: right;\">\n",
       "      <th></th>\n",
       "      <th>Ref num</th>\n",
       "      <th>Abnormality type</th>\n",
       "      <th>Class</th>\n",
       "    </tr>\n",
       "  </thead>\n",
       "  <tbody>\n",
       "    <tr>\n",
       "      <th>0</th>\n",
       "      <td>IMG001</td>\n",
       "      <td>Calcification, Well-defined/circumscribed Mass...</td>\n",
       "      <td>M</td>\n",
       "    </tr>\n",
       "    <tr>\n",
       "      <th>1</th>\n",
       "      <td>IMG002</td>\n",
       "      <td>Normal</td>\n",
       "      <td>B</td>\n",
       "    </tr>\n",
       "    <tr>\n",
       "      <th>2</th>\n",
       "      <td>IMG003</td>\n",
       "      <td>Normal</td>\n",
       "      <td>B</td>\n",
       "    </tr>\n",
       "    <tr>\n",
       "      <th>3</th>\n",
       "      <td>IMG004</td>\n",
       "      <td>Normal</td>\n",
       "      <td>B</td>\n",
       "    </tr>\n",
       "    <tr>\n",
       "      <th>4</th>\n",
       "      <td>IMG005</td>\n",
       "      <td>Normal</td>\n",
       "      <td>B</td>\n",
       "    </tr>\n",
       "  </tbody>\n",
       "</table>\n",
       "</div>"
      ],
      "text/plain": [
       "  Ref num                                   Abnormality type Class\n",
       "0  IMG001  Calcification, Well-defined/circumscribed Mass...     M\n",
       "1  IMG002                                             Normal     B\n",
       "2  IMG003                                             Normal     B\n",
       "3  IMG004                                             Normal     B\n",
       "4  IMG005                                             Normal     B"
      ]
     },
     "execution_count": 47,
     "metadata": {},
     "output_type": "execute_result"
    }
   ],
   "source": [
    "# Mapping of abbreviations to full forms\n",
    "abnormality_mapping = {\n",
    "    \"CALC\": \"Calcification\",\n",
    "    \"CIRC\": \"Well-defined/circumscribed Masses\",\n",
    "    \"SPIC\": \"Spiculated Masses\",\n",
    "    \"MISC\": \"Other, ill-defined Masses\",\n",
    "    \"ARCH\": \"Architectural Distortion\",\n",
    "    \"ASYM\": \"Asymmetry\",\n",
    "    \"NORM\": \"Normal\"\n",
    "}\n",
    "\n",
    "# Replace abbreviations in the \"Abnormality type\" column\n",
    "df[\"Abnormality type\"] = (\n",
    "    df[\"Abnormality type\"]\n",
    "    .str.split(\"+\")  # Split the string by \"+\" to handle multiple abbreviations\n",
    "    .apply(lambda x: \", \".join(abnormality_mapping.get(item, item) for item in x))  # Replace and join with \", \"\n",
    ")\n",
    "\n",
    "# Display the modified DataFrame\n",
    "df.head()"
   ]
  },
  {
   "cell_type": "code",
   "execution_count": 48,
   "metadata": {},
   "outputs": [
    {
     "data": {
      "text/plain": [
       "Abnormality type\n",
       "Normal                                                                            200\n",
       "Well-defined/circumscribed Masses                                                 111\n",
       "Other, ill-defined Masses                                                          55\n",
       "Spiculated Masses                                                                  33\n",
       "Calcification                                                                      24\n",
       "Calcification, Well-defined/circumscribed Masses                                   24\n",
       "Calcification, Other, ill-defined Masses                                           14\n",
       "Calcification, Spiculated Masses                                                    8\n",
       "Architectural Distortion, Calcification                                             7\n",
       "Well-defined/circumscribed Masses, Spiculated Masses                                7\n",
       "Asymmetry                                                                           5\n",
       "Well-defined/circumscribed Masses, Other, ill-defined Masses                        4\n",
       "Calcification, Well-defined/circumscribed Masses, Other, ill-defined Masses         3\n",
       "Architectural Distortion                                                            3\n",
       "Architectural Distortion, Calcification, Spiculated Masses                          2\n",
       "Other, ill-defined Masses, Spiculated Masses                                        2\n",
       "Calcification, Other, ill-defined Masses, Spiculated Masses                         2\n",
       "Architectural Distortion, Spiculated Masses                                         2\n",
       "Architectural Distortion, Well-defined/circumscribed Masses, Spiculated Masses      1\n",
       "Asymmetry, Calcification                                                            1\n",
       "Architectural Distortion, CLAC                                                      1\n",
       "Calcification, Well-defined/circumscribed Masses, Spiculated Masses                 1\n",
       "Name: count, dtype: int64"
      ]
     },
     "execution_count": 48,
     "metadata": {},
     "output_type": "execute_result"
    }
   ],
   "source": [
    "df['Abnormality type'].value_counts()"
   ]
  },
  {
   "cell_type": "code",
   "execution_count": 49,
   "metadata": {},
   "outputs": [
    {
     "data": {
      "text/html": [
       "<div>\n",
       "<style scoped>\n",
       "    .dataframe tbody tr th:only-of-type {\n",
       "        vertical-align: middle;\n",
       "    }\n",
       "\n",
       "    .dataframe tbody tr th {\n",
       "        vertical-align: top;\n",
       "    }\n",
       "\n",
       "    .dataframe thead th {\n",
       "        text-align: right;\n",
       "    }\n",
       "</style>\n",
       "<table border=\"1\" class=\"dataframe\">\n",
       "  <thead>\n",
       "    <tr style=\"text-align: right;\">\n",
       "      <th></th>\n",
       "      <th>Ref num</th>\n",
       "      <th>Abnormality type</th>\n",
       "      <th>Tissue</th>\n",
       "      <th>Class</th>\n",
       "    </tr>\n",
       "  </thead>\n",
       "  <tbody>\n",
       "    <tr>\n",
       "      <th>0</th>\n",
       "      <td>IMG001</td>\n",
       "      <td>Calcification, Well-defined/circumscribed Mass...</td>\n",
       "      <td>predominantly fibro fatty breast parenchyma (A...</td>\n",
       "      <td>M</td>\n",
       "    </tr>\n",
       "    <tr>\n",
       "      <th>1</th>\n",
       "      <td>IMG002</td>\n",
       "      <td>Normal</td>\n",
       "      <td>Fibro fatty with scattered glandular breast pa...</td>\n",
       "      <td>B</td>\n",
       "    </tr>\n",
       "    <tr>\n",
       "      <th>2</th>\n",
       "      <td>IMG003</td>\n",
       "      <td>Normal</td>\n",
       "      <td>Predominantly fibro fatty breast parenchyma (A...</td>\n",
       "      <td>B</td>\n",
       "    </tr>\n",
       "    <tr>\n",
       "      <th>3</th>\n",
       "      <td>IMG004</td>\n",
       "      <td>Normal</td>\n",
       "      <td>Predominantly fibro fatty breast parenchyma (A...</td>\n",
       "      <td>B</td>\n",
       "    </tr>\n",
       "    <tr>\n",
       "      <th>4</th>\n",
       "      <td>IMG005</td>\n",
       "      <td>Normal</td>\n",
       "      <td>Predominantly fibro fatty breast parenchyma (A...</td>\n",
       "      <td>B</td>\n",
       "    </tr>\n",
       "  </tbody>\n",
       "</table>\n",
       "</div>"
      ],
      "text/plain": [
       "  Ref num                                   Abnormality type  \\\n",
       "0  IMG001  Calcification, Well-defined/circumscribed Mass...   \n",
       "1  IMG002                                             Normal   \n",
       "2  IMG003                                             Normal   \n",
       "3  IMG004                                             Normal   \n",
       "4  IMG005                                             Normal   \n",
       "\n",
       "                                              Tissue Class  \n",
       "0  predominantly fibro fatty breast parenchyma (A...     M  \n",
       "1  Fibro fatty with scattered glandular breast pa...     B  \n",
       "2  Predominantly fibro fatty breast parenchyma (A...     B  \n",
       "3  Predominantly fibro fatty breast parenchyma (A...     B  \n",
       "4  Predominantly fibro fatty breast parenchyma (A...     B  "
      ]
     },
     "execution_count": 49,
     "metadata": {},
     "output_type": "execute_result"
    }
   ],
   "source": [
    "# Rename columns in the second dataframe to align with the first dataframe\n",
    "df_ebc.rename(columns={\"FILE\": \"Ref num\", \"Breast Composition\": \"Tissue\"}, inplace=True)\n",
    "\n",
    "# Merge the two dataframes on the \"Ref num\" column\n",
    "merged_df = pd.merge(df, df_ebc, on=\"Ref num\", how=\"inner\")\n",
    "\n",
    "# Reorder columns to move \"Class\" to the end\n",
    "column_order = [col for col in merged_df.columns if col != \"Class\"] + [\"Class\"]\n",
    "merged_df = merged_df[column_order]\n",
    "\n",
    "# Replace normal class with benign class\n",
    "merged_df['Class'] = merged_df['Class'].replace(\"N\", \"B\")\n",
    "\n",
    "# Display the merged dataframe\n",
    "merged_df.head()"
   ]
  },
  {
   "cell_type": "code",
   "execution_count": 29,
   "metadata": {},
   "outputs": [
    {
     "data": {
      "text/plain": [
       "Class\n",
       "B    380\n",
       "M    130\n",
       "Name: count, dtype: int64"
      ]
     },
     "execution_count": 29,
     "metadata": {},
     "output_type": "execute_result"
    }
   ],
   "source": [
    "merged_df['Class'].value_counts()"
   ]
  },
  {
   "cell_type": "markdown",
   "metadata": {},
   "source": [
    "## Sentence generation "
   ]
  },
  {
   "cell_type": "code",
   "execution_count": 33,
   "metadata": {},
   "outputs": [
    {
     "data": {
      "text/html": [
       "<div>\n",
       "<style scoped>\n",
       "    .dataframe tbody tr th:only-of-type {\n",
       "        vertical-align: middle;\n",
       "    }\n",
       "\n",
       "    .dataframe tbody tr th {\n",
       "        vertical-align: top;\n",
       "    }\n",
       "\n",
       "    .dataframe thead th {\n",
       "        text-align: right;\n",
       "    }\n",
       "</style>\n",
       "<table border=\"1\" class=\"dataframe\">\n",
       "  <thead>\n",
       "    <tr style=\"text-align: right;\">\n",
       "      <th></th>\n",
       "      <th>Ref num</th>\n",
       "      <th>Generated Sentence</th>\n",
       "    </tr>\n",
       "  </thead>\n",
       "  <tbody>\n",
       "    <tr>\n",
       "      <th>0</th>\n",
       "      <td>IMG001</td>\n",
       "      <td>Findings indicate Calcification, Well-defined/...</td>\n",
       "    </tr>\n",
       "    <tr>\n",
       "      <th>1</th>\n",
       "      <td>IMG002</td>\n",
       "      <td>Findings indicate Normal in a breast character...</td>\n",
       "    </tr>\n",
       "    <tr>\n",
       "      <th>2</th>\n",
       "      <td>IMG003</td>\n",
       "      <td>Findings indicate Normal in a breast character...</td>\n",
       "    </tr>\n",
       "    <tr>\n",
       "      <th>3</th>\n",
       "      <td>IMG004</td>\n",
       "      <td>Findings indicate Normal in a breast character...</td>\n",
       "    </tr>\n",
       "    <tr>\n",
       "      <th>4</th>\n",
       "      <td>IMG005</td>\n",
       "      <td>Findings indicate Normal in a breast character...</td>\n",
       "    </tr>\n",
       "  </tbody>\n",
       "</table>\n",
       "</div>"
      ],
      "text/plain": [
       "  Ref num                                 Generated Sentence\n",
       "0  IMG001  Findings indicate Calcification, Well-defined/...\n",
       "1  IMG002  Findings indicate Normal in a breast character...\n",
       "2  IMG003  Findings indicate Normal in a breast character...\n",
       "3  IMG004  Findings indicate Normal in a breast character...\n",
       "4  IMG005  Findings indicate Normal in a breast character..."
      ]
     },
     "execution_count": 33,
     "metadata": {},
     "output_type": "execute_result"
    }
   ],
   "source": [
    "# Create natural sentences using templates\n",
    "def generate_sentence(row):\n",
    "    return f\"Findings indicate {row['Abnormality type']} in a breast characterized by {row['Tissue']}\"\n",
    "\n",
    "# Apply the function to the DataFrame\n",
    "merged_df['Generated Sentence'] = merged_df.apply(generate_sentence, axis=1)\n",
    "\n",
    "# Display the updated DataFrame\n",
    "merged_df[['Ref num', 'Generated Sentence']].head()"
   ]
  },
  {
   "cell_type": "code",
   "execution_count": 35,
   "metadata": {},
   "outputs": [
    {
     "data": {
      "text/plain": [
       "'Findings indicate Well-defined/circumscribed Masses in a breast characterized by fibro glandular breast parenchyma (ACR B).'"
      ]
     },
     "execution_count": 35,
     "metadata": {},
     "output_type": "execute_result"
    }
   ],
   "source": [
    "# Sample\n",
    "merged_df['Generated Sentence'][89]"
   ]
  }
 ],
 "metadata": {
  "kernelspec": {
   "display_name": "pytorch-env",
   "language": "python",
   "name": "pytorch-env"
  },
  "language_info": {
   "codemirror_mode": {
    "name": "ipython",
    "version": 3
   },
   "file_extension": ".py",
   "mimetype": "text/x-python",
   "name": "python",
   "nbconvert_exporter": "python",
   "pygments_lexer": "ipython3",
   "version": "3.12.3"
  }
 },
 "nbformat": 4,
 "nbformat_minor": 2
}
